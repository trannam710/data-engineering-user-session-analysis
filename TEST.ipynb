{
 "cells": [
  {
   "cell_type": "code",
   "execution_count": 21,
   "id": "41f1a95a",
   "metadata": {},
   "outputs": [],
   "source": [
    "import requests\n",
    "import json\n",
    "\n",
    "r = requests.get(\"https://fake-json-api.mock.beeceptor.com/users\")\n",
    "content = r.json()"
   ]
  },
  {
   "cell_type": "code",
   "execution_count": 4,
   "id": "cab21cda",
   "metadata": {},
   "outputs": [
    {
     "data": {
      "text/plain": [
       "{'id': 1,\n",
       " 'name': 'Maggie Gottlieb',\n",
       " 'company': 'Satterfield, Murray and Torp',\n",
       " 'username': 'Marisa_Kshlerin',\n",
       " 'email': 'Philip.Feeney64@yahoo.com',\n",
       " 'address': '68542 The Maltings',\n",
       " 'zip': '75823',\n",
       " 'state': 'Tennessee',\n",
       " 'country': 'Bhutan',\n",
       " 'phone': '418.880.4434 x19552',\n",
       " 'photo': 'https://json-server.dev/ai-profiles/26.png'}"
      ]
     },
     "execution_count": 4,
     "metadata": {},
     "output_type": "execute_result"
    }
   ],
   "source": [
    "import requests\n",
    "import json\n",
    "\n",
    "requests = requests.get(\"https://fake-json-api.mock.beeceptor.com/users\")\n",
    "content = requests.json()\n",
    "content = content[0]\n",
    "content"
   ]
  }
 ],
 "metadata": {
  "kernelspec": {
   "display_name": "Python 3",
   "language": "python",
   "name": "python3"
  },
  "language_info": {
   "codemirror_mode": {
    "name": "ipython",
    "version": 3
   },
   "file_extension": ".py",
   "mimetype": "text/x-python",
   "name": "python",
   "nbconvert_exporter": "python",
   "pygments_lexer": "ipython3",
   "version": "3.11.0"
  }
 },
 "nbformat": 4,
 "nbformat_minor": 5
}
